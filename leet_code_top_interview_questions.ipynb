{
 "cells": [
  {
   "cell_type": "markdown",
   "metadata": {},
   "source": [
    "# LeetCode Top Interview Questions"
   ]
  },
  {
   "cell_type": "code",
   "execution_count": 5,
   "metadata": {},
   "outputs": [],
   "source": [
    "# # 1. Two Sum\n",
    "# https://leetcode.com/problems/two-sum/\n",
    "\n",
    "# Given an array of integers nums and an integer target, return indices of the two numbers such that they add up to target.\n",
    "# You may assume that each input would have exactly one solution, and you may not use the same element twice.\n",
    "# You can return the answer in any order.\n",
    "\n",
    "# Example 1:\n",
    "# Input: nums = [2,7,11,15], target = 9\n",
    "# Output: [0,1]\n",
    "# Explanation: Because nums[0] + nums[1] == 9, we return [0, 1].\n",
    "\n",
    "# Example 2:\n",
    "# Input: nums = [3,2,4], target = 6\n",
    "# Output: [1,2]\n",
    "\n",
    "# Example 3:\n",
    "# Input: nums = [3,3], target = 6\n",
    "# Output: [0,1]\n",
    "\n",
    "# Constraints:\n",
    "# 2 <= nums.length <= 104\n",
    "# -109 <= nums[i] <= 109\n",
    "# -109 <= target <= 109\n",
    "# Only one valid answer exists.\n",
    "# Follow-up: Can you come up with an algorithm that is less than O(n2) time complexity?"
   ]
  },
  {
   "cell_type": "code",
   "execution_count": 6,
   "metadata": {},
   "outputs": [
    {
     "name": "stdout",
     "output_type": "stream",
     "text": [
      "[0, 1]\n",
      "[1, 2]\n",
      "[0, 1]\n"
     ]
    }
   ],
   "source": [
    "def twoSum(nums, target):\n",
    "    return_list = []\n",
    "    for i in range(0, len(nums)):\n",
    "        for j in range(0, len(nums)):\n",
    "            if i == j:\n",
    "                pass\n",
    "            else:\n",
    "                if nums[i] + nums[j] == target:\n",
    "                    return_list.append(i)\n",
    "                    return_list.append(j)\n",
    "                    return return_list\n",
    "print(twoSum([2,7,11,15], 9))\n",
    "print(twoSum([3,2,4], 6))\n",
    "print(twoSum([3,3], 6))\n",
    "# Above code has the Big-O of n^2"
   ]
  },
  {
   "cell_type": "code",
   "execution_count": 7,
   "metadata": {},
   "outputs": [
    {
     "name": "stdout",
     "output_type": "stream",
     "text": [
      "[0, 1]\n",
      "[1, 2]\n",
      "[0, 1]\n"
     ]
    }
   ],
   "source": [
    "def twoSum(nums, target):\n",
    "    return_list = []\n",
    "    for i in range(0, len(nums)):\n",
    "        temp_list = nums.copy()\n",
    "        temp_list.remove(nums[i])\n",
    "        second_num = target - nums[i]\n",
    "        if second_num in temp_list:\n",
    "            j = temp_list.index(second_num) + 1\n",
    "            return_list.append(i)\n",
    "            return_list.append(j)\n",
    "            return return_list\n",
    "\n",
    "print(twoSum([2,7,11,15], 9))\n",
    "print(twoSum([3,2,4], 6))\n",
    "print(twoSum([3,3], 6))"
   ]
  },
  {
   "cell_type": "code",
   "execution_count": 8,
   "metadata": {},
   "outputs": [],
   "source": [
    "# # 13. Roman to Integer\n",
    "\n",
    "# Roman numerals are represented by seven different symbols: I, V, X, L, C, D and M.\n",
    "# Symbol       Value\n",
    "# I             1\n",
    "# V             5\n",
    "# X             10\n",
    "# L             50\n",
    "# C             100\n",
    "# D             500\n",
    "# M             1000\n",
    "\n",
    "# For example, 2 is written as II in Roman numeral, just two ones added together. 12 is written as XII, which is simply X + II. The number 27 is written as XXVII, which is XX + V + II.\n",
    "# Roman numerals are usually written largest to smallest from left to right. However, the numeral for four is not IIII. Instead, the number four is written as IV. Because the one is before the five we subtract it making four. The same principle applies to the number nine, which is written as IX. There are six instances where subtraction is used:\n",
    "\n",
    "# I can be placed before V (5) and X (10) to make 4 and 9. \n",
    "# X can be placed before L (50) and C (100) to make 40 and 90. \n",
    "# C can be placed before D (500) and M (1000) to make 400 and 900.\n",
    "\n",
    "# Given a roman numeral, convert it to an integer.\n",
    "# Example 1:\n",
    "# Input: s = \"III\"\n",
    "# Output: 3\n",
    "# Explanation: III = 3.\n",
    "\n",
    "# Example 2:\n",
    "# Input: s = \"LVIII\"\n",
    "# Output: 58\n",
    "# Explanation: L = 50, V= 5, III = 3.\n",
    "\n",
    "# Example 3:\n",
    "# Input: s = \"MCMXCIV\"\n",
    "# Output: 1994\n",
    "# Explanation: M = 1000, CM = 900, XC = 90 and IV = 4.\n",
    " \n",
    "# Constraints:\n",
    "# 1 <= s.length <= 15\n",
    "# s contains only the characters ('I', 'V', 'X', 'L', 'C', 'D', 'M').\n",
    "# It is guaranteed that s is a valid roman numeral in the range [1, 3999]."
   ]
  },
  {
   "cell_type": "code",
   "execution_count": 9,
   "metadata": {},
   "outputs": [
    {
     "name": "stdout",
     "output_type": "stream",
     "text": [
      "3\n",
      "58\n",
      "1994\n"
     ]
    }
   ],
   "source": [
    "# my solution which is really complicated\n",
    "def romanToInt(s):\n",
    "    table = {\"I\":1, \"V\":5, \"X\":10, \"L\":50, \"C\":100, \"D\":500, \"M\":1000}\n",
    "    result = 0\n",
    "    prev = 0\n",
    "    i = 0\n",
    "    while i < len(s):\n",
    "        if i+1 < len(s):\n",
    "            if table[s[i]] < table[s[i+1]]:\n",
    "                prev = table[s[i]]\n",
    "                pass\n",
    "            else:\n",
    "                result = result + table[s[i]] - prev\n",
    "                prev = 0\n",
    "        i = i+1\n",
    "    result = result + table[s[-1]] - prev\n",
    "    return result\n",
    "print(romanToInt(\"III\")) # 3\n",
    "print(romanToInt(\"LVIII\")) # 58\n",
    "print(romanToInt(\"MCMXCIV\")) # 1994"
   ]
  },
  {
   "cell_type": "code",
   "execution_count": 10,
   "metadata": {},
   "outputs": [
    {
     "name": "stdout",
     "output_type": "stream",
     "text": [
      "3\n",
      "58\n",
      "1994\n"
     ]
    }
   ],
   "source": [
    "def romanToInt(s):\n",
    "    table = {\"I\":1, \"V\":5, \"X\":10, \"L\":50, \"C\":100, \"D\":500, \"M\":1000}\n",
    "    result = 0\n",
    "    s = s.replace(\"IV\", \"IIII\").replace(\"IX\", \"VIIII\")\n",
    "    s = s.replace(\"XL\", \"XXXX\").replace(\"XC\", \"LXXXX\")\n",
    "    s = s.replace(\"CD\", \"CCCC\").replace(\"CM\", \"DCCCC\")\n",
    "    for i in s:\n",
    "        result = result + table[i]\n",
    "    return result\n",
    "print(romanToInt(\"III\")) # 3\n",
    "print(romanToInt(\"LVIII\")) # 58\n",
    "print(romanToInt(\"MCMXCIV\")) # 1994"
   ]
  },
  {
   "cell_type": "code",
   "execution_count": 11,
   "metadata": {},
   "outputs": [],
   "source": [
    "# 14. Longest Common Prefix\n",
    "# Easy\n",
    "# 10957\n",
    "\n",
    "# 3478\n",
    "\n",
    "# Add to List\n",
    "\n",
    "# Share\n",
    "# Write a function to find the longest common prefix string amongst an array of strings.\n",
    "\n",
    "# If there is no common prefix, return an empty string \"\".\n",
    "\n",
    "# Example 1:\n",
    "# Input: strs = [\"flower\",\"flow\",\"flight\"]\n",
    "# Output: \"fl\"\n",
    "# Example 2:\n",
    "\n",
    "# Input: strs = [\"dog\",\"racecar\",\"car\"]\n",
    "# Output: \"\"\n",
    "# Explanation: There is no common prefix among the input strings.\n",
    " \n",
    "# Constraints:\n",
    "# 1 <= strs.length <= 200\n",
    "# 0 <= strs[i].length <= 200\n",
    "# strs[i] consists of only lowercase English letters."
   ]
  },
  {
   "cell_type": "code",
   "execution_count": 13,
   "metadata": {},
   "outputs": [
    {
     "name": "stdout",
     "output_type": "stream",
     "text": [
      "\n",
      "fl\n"
     ]
    }
   ],
   "source": [
    "# my code which is not optimal\n",
    "def longestCommonPrefix(strs):\n",
    "    shortest = strs[0]\n",
    "    for i in strs:\n",
    "        if len(shortest) > len(i):\n",
    "            shortest = i\n",
    "    items = len(strs)\n",
    "    while shortest != \"\":\n",
    "        found_items = 0\n",
    "        for i in strs:\n",
    "            if shortest == i[0: len(shortest)]:\n",
    "                found_items = found_items + 1\n",
    "        if found_items == items:\n",
    "            return shortest\n",
    "        else:\n",
    "            shortest = shortest[0:len(shortest)-1]\n",
    "    return \"\"\n",
    "print(longestCommonPrefix([\"reflower\",\"flow\",\"flight\"]))\n",
    "print(longestCommonPrefix([\"flower\",\"flow\",\"flight\"]))\n",
    "\n",
    "# but this is the only code with proper results"
   ]
  },
  {
   "cell_type": "code",
   "execution_count": null,
   "metadata": {},
   "outputs": [],
   "source": [
    "# 20. Valid Parentheses\n",
    "\n",
    "# Given a string s containing just the characters '(', ')', '{', '}', '[' and ']', determine if the input string is valid.\n",
    "\n",
    "# An input string is valid if:\n",
    "\n",
    "# Open brackets must be closed by the same type of brackets.\n",
    "# Open brackets must be closed in the correct order.\n",
    "# Every close bracket has a corresponding open bracket of the same type.\n",
    " \n",
    "\n",
    "# Example 1:\n",
    "\n",
    "# Input: s = \"()\"\n",
    "# Output: true\n",
    "# Example 2:\n",
    "\n",
    "# Input: s = \"()[]{}\"\n",
    "# Output: true\n",
    "# Example 3:\n",
    "\n",
    "# Input: s = \"(]\"\n",
    "# Output: false\n",
    " \n",
    "\n",
    "# Constraints:\n",
    "\n",
    "# 1 <= s.length <= 104\n",
    "# s consists of parentheses only '()[]{}'."
   ]
  },
  {
   "cell_type": "code",
   "execution_count": 2,
   "metadata": {},
   "outputs": [
    {
     "name": "stdout",
     "output_type": "stream",
     "text": [
      "False\n",
      "False\n",
      "True\n",
      "True\n",
      "False\n"
     ]
    }
   ],
   "source": [
    "# my solution which does not use dictionary\n",
    "def isValid(s):\n",
    "    final_list = []\n",
    "    for i in s:\n",
    "        # print(final_list)\n",
    "        if i == \")\" and \"(\" in final_list and final_list[0] == \"(\":\n",
    "            final_list.remove(\"(\")\n",
    "        elif i == \"]\" and \"[\" in final_list and final_list[0] == \"[\":\n",
    "            final_list.remove(\"[\")\n",
    "        elif i == \"}\" and \"{\" in final_list and final_list[0] == \"{\":\n",
    "            final_list.remove(\"{\")\n",
    "        else:\n",
    "            final_list.insert(0, i)\n",
    "    return len(final_list) == 0\n",
    "\n",
    "print(isValid(\"[([]])\"))\n",
    "print(isValid(\"([)]\"))\n",
    "print(isValid(\"()\"))\n",
    "print(isValid(\"()[]{}\"))\n",
    "print(isValid(\"(]\"))"
   ]
  },
  {
   "cell_type": "code",
   "execution_count": null,
   "metadata": {},
   "outputs": [],
   "source": []
  }
 ],
 "metadata": {
  "kernelspec": {
   "display_name": "Python 3.8.8 ('base')",
   "language": "python",
   "name": "python3"
  },
  "language_info": {
   "codemirror_mode": {
    "name": "ipython",
    "version": 3
   },
   "file_extension": ".py",
   "mimetype": "text/x-python",
   "name": "python",
   "nbconvert_exporter": "python",
   "pygments_lexer": "ipython3",
   "version": "3.8.8"
  },
  "orig_nbformat": 4,
  "vscode": {
   "interpreter": {
    "hash": "2c8d9c2746011486095a24ec61d85cd6bc1a77adc2874fdf9cd8f5494598314f"
   }
  }
 },
 "nbformat": 4,
 "nbformat_minor": 2
}
